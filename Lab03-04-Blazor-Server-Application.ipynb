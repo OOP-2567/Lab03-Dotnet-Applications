{
 "cells": [
  {
   "cell_type": "markdown",
   "metadata": {
    "dotnet_interactive": {
     "language": "csharp"
    },
    "polyglot_notebook": {
     "kernelName": "csharp"
    }
   },
   "source": [
    "# Lab 3.3 Blazor Server application"
   ]
  },
  {
   "cell_type": "markdown",
   "metadata": {},
   "source": [
    "## 0. Prerequisites\n",
    "\n",
    "### 0.1 ก่อนทำการทดลอง \n",
    "\n",
    "ให้ตรวจสอบให้แน่ใจว่าเครื่องคอมพิวเตอร์ได้ติดตั้งซอฟต์แวร์ต่อไปนี้แล้ว\n",
    "\n",
    "- Visual Studio Code  \n",
    "- ติดตั้ง extension C# Dev Kit บน Visual Studio Code (ใช้สำหรับการสร้าง project) \n",
    "- .NET 8 SDK.\n",
    "\n",
    "### 0.2 ตรวจสอบ Workload ว่าได้ติดตั้งส่วนประกอบต่างๆ ครบหรือยัง\n",
    "\n",
    "- พิมพ์ `dotnet new list blazor` ใน terminal\n",
    "- ตรวจสอบว่ามี  Blazor WebAssembly App Empty หรือ Blazor WebAssembly Standalone App ติดตั้งในระบบ ถ้าไม่มี ให้ติดตั้งให้เรียบร้อย\n",
    "- ค้นหา template โดยใช้คำสั่ง `dotnet new search <ชื่อ template>`\n",
    "- ติดตั้ง template โดยใช้คำสั่ง `dotnet new install <ชื่อ template>`\n",
    "\n",
    "\n"
   ]
  },
  {
   "cell_type": "markdown",
   "metadata": {},
   "source": [
    "## 1. Introduction\n",
    "\n",
    "Blazor Web Server application"
   ]
  },
  {
   "cell_type": "markdown",
   "metadata": {},
   "source": [
    "## 2. Create Application\n",
    "\n",
    "1. เปิด visual studio code \n",
    "\n",
    "2. เปิด terminal โดยใช้เมนู view->terminal หรือกด Ctrl + Shift + ` \n",
    "\n",
    "   2.1 ตรวจสอบว่าเป็น folder ที่จะสร้าง project ไว้ในนั้นจริง ๆ  \n",
    "\n",
    "3. พิมพ์ `dotnet new blazor -n BlazorServer1 -o BlazorServer1` ใน terminal\n",
    "4. พิมพ์คำสั่ง `dir` ใน terminal เพื่อดูว่ามี folder ชื่อ BlazorServer1 ที่ถูกสร้างขึ้นใหม่อยู่แล้วหรือยัง ถ้ายังไม่มี อาจจะเกิดจากการสร้างไม่สมบูรณ์\n",
    "5. พิมพ์คำสั่ง `cd BlazorServer1` เพื่อเปลี่ยน folder  ที่ทำงานไปอยู่ในโปรเจค BlazorServer1\n",
    "6. พิมพ์คำสั่ง `dir` ใน terminal เพื่อดูว่ามีไฟล์อะไรบ้าง"
   ]
  },
  {
   "cell_type": "markdown",
   "metadata": {},
   "source": [
    "## 3. Build Application\n",
    "\n",
    "7. พิมพ์คำสั่ง `dotnet build`  ใน terminal เพื่อ build โปรแกรม"
   ]
  },
  {
   "cell_type": "markdown",
   "metadata": {},
   "source": [
    "## 4. Run Application\n",
    "7. พิมพ์คำสั่ง `dotnet watch` ใน terminal เพื่อรันโปรแกรม\n",
    "\n",
    "คำสั่ง dotnet watch ใช้เพื่อรันในโหมด hot reload หมายความว่า เมื่อทำการแก้ไข source code จะมีการ upload  และ refresh ให้โดยอัตโนมัติ\n",
    "\n",
    "8. สังเกตุการเปลี่ยนแปลงและบันทึกหน้าจอ"
   ]
  },
  {
   "cell_type": "markdown",
   "metadata": {},
   "source": [
    "ผลการบันทึก\n"
   ]
  },
  {
   "cell_type": "markdown",
   "metadata": {},
   "source": [
    "9. ทดลองแก้ไข code โดยการเปิดไฟล์ Home.razor ซึ่งอยู่ในโฟลเดอร์ Component/Pages ให้เป็นดังนี้\n",
    "\n",
    ">    ```r\n",
    ">    @page \"/\"\n",
    ">\n",
    ">    <PageTitle>Home</PageTitle>\n",
    ">\n",
    ">    <h1>Hello, world!</h1>\n",
    ">\n",
    ">    Welcome to your new app.\n",
    ">    <br>\n",
    ">    สวัสดี\n",
    ">    ```"
   ]
  },
  {
   "cell_type": "markdown",
   "metadata": {},
   "source": [
    "10. บันทึกไฟล์\n",
    "11. สังเกตุการเปลี่ยนแปลงและบันทึกหน้าจอ"
   ]
  },
  {
   "cell_type": "markdown",
   "metadata": {},
   "source": [
    "ผลการบันทึก\n"
   ]
  },
  {
   "cell_type": "markdown",
   "metadata": {},
   "source": [
    "## 5. เพิ่ม razor page (blazor component)\n",
    "\n",
    "12. พิมพ์คำสั่ง `dotnet new list razorcomponent`  ใน terminal เพื่อตรวจสอบว่ามี template สำหรับการสร้าง razor component ติดตั้งไว้หรือยัง \n",
    "\n",
    "13. พิมพ์คำสั่ง `dotnet new razorcomponent -n Adder -o Components/Pages` ใน terminal เพื่อสร้าง razor component โดยจะต้องสร้างไว้ในที่เดียวกับ component อื่นๆ \n",
    "14. เปิดไฟล์ Components/Layout/NavMenu.razor เพื่อเพิ่ม link ที่หน้า navigation มายัง component ที่สร้างขึ้น\n",
    "15. คัดลอกบล็อกของ code สำหรับลิงค์ (บรรทัดที่ 23 - 27) แล้ววางลงใต้บล็อกที่ copy มา\n",
    "16. แก้ไข href และ ข้อความ link เมื่อแก้ไขแล้วจะเป็นดังนี้ \n",
    "\n",
    ">    ```r\n",
    ">    <div class=\"top-row ps-3 navbar navbar-dark\">\n",
    ">        <div class=\"container-fluid\">\n",
    ">            <a class=\"navbar-brand\" href=\"\">BlazorServer1</a>\n",
    ">        </div>\n",
    ">    </div>\n",
    ">\n",
    ">    <input type=\"checkbox\" title=\"Navigation menu\" class=\"navbar-toggler\" />\n",
    ">\n",
    ">    <div class=\"nav-scrollable\" onclick=\"document.querySelector('.navbar-toggler').click()\">\n",
    ">        <nav class=\"flex-column\">\n",
    ">            <div class=\"nav-item px-3\">\n",
    ">                <NavLink class=\"nav-link\" href=\"\" Match=\"NavLinkMatch.All\">\n",
    ">                    <span class=\"bi bi-house-door-fill-nav-menu\" aria-hidden=\"true\"></span> Home\n",
    ">                </NavLink>\n",
    ">            </div>\n",
    ">\n",
    ">            <div class=\"nav-item px-3\">\n",
    ">                <NavLink class=\"nav-link\" href=\"counter\">\n",
    ">                    <span class=\"bi bi-plus-square-fill-nav-menu\" aria-hidden=\"true\"></span> Counter\n",
    ">                </NavLink>\n",
    ">            </div>\n",
    ">\n",
    ">            <div class=\"nav-item px-3\">\n",
    ">                <NavLink class=\"nav-link\" href=\"weather\">\n",
    ">                    <span class=\"bi bi-list-nested-nav-menu\" aria-hidden=\"true\"></span> Weather\n",
    ">                </NavLink>\n",
    ">            </div>\n",
    ">\n",
    ">            <div class=\"nav-item px-3\">\n",
    ">                <NavLink class=\"nav-link\" href=\"adder\">\n",
    ">                    <span class=\"bi bi-list-nested-nav-menu\" aria-hidden=\"true\"></span> Adder\n",
    ">                </NavLink>\n",
    ">            </div>\n",
    ">\n",
    ">        </nav>\n",
    ">    </div>\n",
    ">    ```    \n",
    "\n",
    "17. พิมพ์คำสั่ง `dotnet watch` ใน terminal เพื่อรันโปรแกรม\n",
    "18. สังเกตุหน้าเพจ ว่ามีเมนูใหม่เกิดขึ้นหรือไม่ ถ้ามี ให้ทดลองคลิกที่ลิงค์นั้น"
   ]
  },
  {
   "cell_type": "markdown",
   "metadata": {},
   "source": [
    "### 5.1 แก้ไขหน้า razor component ให้รองรับการกด link\n",
    "19. เปิดไฟล์ Components/Pages/Adder.razor\n",
    "20. เพิ่ม code สำหรับการเรียก route ไว้ในบรรทัดแรก เมื่อเพิ่มแล้วจะได้เนื้อหาในไฟล์เป็นดังนี้\n",
    ">    ```r\n",
    ">    @page \"/adder\"\n",
    ">    \n",
    ">    <h3>Adder</h3>\n",
    ">    \n",
    ">    @code {\n",
    ">    \n",
    ">    }\n",
    ">    ```\n",
    "21. ตรวจสอบใน terminal ว่า server ยังรันอยู่หรือไม่ ถ้ายังรันอยู่ ให้กด Ctrl+C เนื่องจากการเพิ่มเส้นทาง (route) ไปยัง resource ต่างๆ ต้องทำการ upload ส่วนที่เป็น core ของ server ขึ้นไปใหม่ ไม่สามารถทำเพียงแค่ hot reload ได้\n",
    "22. เมื่อ server หยุดการทำงานแล้ว ให้พิมพ์คำสั่ง `dotnet watch` ใน terminal อีกครั้งเพื่อรันโปรแกรม\n",
    "23. ทดลองคลิกที่เมนู Adder สังเกตุและบันทึกผลการทดลอง\n"
   ]
  },
  {
   "cell_type": "markdown",
   "metadata": {},
   "source": [
    "ผลการบันทึก\n"
   ]
  },
  {
   "cell_type": "markdown",
   "metadata": {},
   "source": [
    "### 5.2 เพิ่ม code การบวกเลขสองจำนวนลงใน razor component\n",
    "24. เปิดไฟล์  Components/Pages/Adder.razor\n",
    "25. เปลี่ยน code ทั้งหมดในไฟล์เป็นตาม code ด้านล่างนี้\n",
    "\n",
    ">    ```r\n",
    ">   @page \"/adder\"\n",
    ">   @rendermode InteractiveServer\n",
    ">   <h3>Adder</h3>\n",
    ">   <style>\n",
    ">       .btAdd {\n",
    ">           position: relative;\n",
    ">           left: 100px;\n",
    ">           height: 40px;\n",
    ">           width: 80px;\n",
    ">       }\n",
    ">\n",
    ">       .canvas {\n",
    ">           width: 300px;\n",
    ">           height: 300px;\n",
    ">           background-color: lightcyan;\n",
    ">           float: left;\n",
    ">           position: relative;\n",
    ">       }\n",
    ">   </style>\n",
    ">\n",
    ">   <div class=\"canvas\">\n",
    ">       <p> A:<input id=\"Text1\" @bind=\"A\" type=\"text\"> </p>\n",
    ">       <p> B:<input id=\"Text2\" @bind=\"B\" type=\"text\" /> </p>\n",
    ">       <p> <button @onclick=\"AddValues\" class=\"btAdd\"> @Label </button> </p>\n",
    ">       <p> C:<input id=\"Text3\" @bind=\"C\" type=\"text\" /> </p>\n",
    ">   </div>\n",
    ">\n",
    ">   @code {\n",
    ">       string Label = \"Add\";\n",
    ">       double A, B, C;\n",
    ">       private void AddValues()\n",
    ">       {\n",
    ">           C = A + B;\n",
    ">       }\n",
    ">   }\n",
    ">   ```\n",
    "\n",
    "26. ตรวจสอบใน terminal ว่า server ยังรันอยู่หรือไม่ ถ้ายังรันอยู่ ให้กด Ctrl+C เนื่องจากการเพิ่มเส้นทาง (route) ไปยัง resource ต่างๆ ต้องทำการ upload ส่วนที่เป็น core ของ server ขึ้นไปใหม่ ไม่สามารถทำเพียงแค่ hot reload ได้\n",
    "27. เมื่อ server หยุดการทำงานแล้ว ให้พิมพ์คำสั่ง `dotnet watch` ใน terminal อีกครั้งเพื่อรันโปรแกรม\n",
    "28. ทดลองคลิกที่เมนู Adder สังเกตุและบันทึกผลการทดลอง"
   ]
  },
  {
   "cell_type": "markdown",
   "metadata": {},
   "source": [
    "ผลการบันทึก\n"
   ]
  },
  {
   "cell_type": "markdown",
   "metadata": {},
   "source": [
    "### 5.3 เพิ่ม razor component การบวกเลขสองจำนวนลงในหน้า home page\n",
    "29. เปิดไฟล์  Components/Pages/Home.razor เพื่อแก้ไขหน้า Homepage\n",
    "30. แก้ไข Code ของหน้า Homepage ให้เป็นดังนี้\n",
    "\n",
    ">    ```r\n",
    ">    @page \"/\"\n",
    ">\n",
    ">    <PageTitle>Home</PageTitle>\n",
    ">\n",
    ">    <Adder> </Adder>\n",
    ">    \n",
    ">    ``` \n",
    "\n",
    "31. ตรวจสอบใน terminal ว่า server ยังรันอยู่หรือไม่ ถ้ายังรันอยู่ ให้กด Ctrl+C เนื่องจากการเพิ่มเส้นทาง (route) ไปยัง resource ต่างๆ ต้องทำการ upload ส่วนที่เป็น core ของ server ขึ้นไปใหม่ ไม่สามารถทำเพียงแค่ hot reload ได้\n",
    "32. เมื่อ server หยุดการทำงานแล้ว ให้พิมพ์คำสั่ง `dotnet watch` ใน terminal อีกครั้งเพื่อรันโปรแกรม\n",
    "33. สังเกตุและบันทึกผลการทดลอง\n",
    "34. ทดลองคลิกที่เมนู Adder สังเกตุและบันทึกผลการทดลอง\n"
   ]
  },
  {
   "cell_type": "markdown",
   "metadata": {},
   "source": [
    "ผลการทดลอง\n"
   ]
  },
  {
   "cell_type": "markdown",
   "metadata": {},
   "source": [
    "## คำถาม\n",
    "1. ถ้าไม่ใส่ตัวเลขใดๆ เลย ทั้งช่อง A และ B แล้วกด Add จะเกิดอะไรขึ้น\n",
    "   \n",
    "    ตอบ ถ้าไม่ใส่ระบบจะใส่เลข0ให้เองทั้ง2ช่อง จะได้ผลลัพธ์ที่ช่อง C = 0\n",
    "\n",
    "2. ถ้าไม่ตัวเลขใดเฉพาะช่อง A แต่ไม่ใส่ในช่อง B แล้วกด Add จะเกิดอะไรขึ้น\n",
    "   \n",
    "    ตอบ จะได้ผลลัพธ์ที่ช่อง C = ค่าตัวเลขที่ป้อนเข้าไปในช่อง A\n",
    "\n",
    "3. ถ้าไม่ตัวเลขใดเฉพาะช่อง B แต่ไม่ใส่ในช่อง A แล้วกด Add จะเกิดอะไรขึ้น\n",
    "    \n",
    "    ตอบ จะได้ผลลัพธ์ที่ช่อง C = ค่าตัวเลขที่ป้อนเข้าไปในช่อง B\n",
    "\n",
    "4. ถ้าใส่อักษรที่ไม่ใช่ตัวเลขลงในช่อง A หรือ B แล้วกด Add จะเกิดอะไรขึ้น\n",
    "   \n",
    "    ตอบ ในช่องที่กรอกตัวอักษรจะแสดงค่า = 0 จะได้ผลลัพธ์ที่ช่อง C = ช่องที่ไม่กรอกตัวอักษร แต่กรอกตัวเลข\n",
    "\n",
    "5. ถ้าใส่เลขทศนิยมลงในช่อง A หรือ B แล้วกด Add จะเกิดอะไรขึ้น\n",
    "   \n",
    "    ตอบ จะได้ผลลัพธ์ที่ช่อง C = ผลบวกของตัวเลขที่มีทศนิยมหรือไม่มีก็ได้บวกกันโดยจะนำเลขหลังจุดทศนิยมมาบวกเข้าไปด้วย  .\n",
    "\n",
    "\n",
    "\n",
    "   \n",
    "   \n",
    "  \n",
    "\n",
    "   \n",
    "   \n",
    "\n",
    "\n",
    "\n",
    "   \n"
   ]
  }
 ],
 "metadata": {
  "kernelspec": {
   "display_name": ".NET (C#)",
   "language": "C#",
   "name": ".net-csharp"
  },
  "polyglot_notebook": {
   "kernelInfo": {
    "defaultKernelName": "csharp",
    "items": [
     {
      "aliases": [],
      "languageName": "csharp",
      "name": "csharp"
     }
    ]
   }
  }
 },
 "nbformat": 4,
 "nbformat_minor": 2
}
