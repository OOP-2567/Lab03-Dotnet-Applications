{
 "cells": [
  {
   "cell_type": "markdown",
   "metadata": {
    "dotnet_interactive": {
     "language": "csharp"
    },
    "polyglot_notebook": {
     "kernelName": "csharp"
    }
   },
   "source": [
    "# Lab 3.4 Blazor Web Assembly application"
   ]
  },
  {
   "cell_type": "markdown",
   "metadata": {},
   "source": [
    "## 0. Prerequisites\n",
    "\n",
    "### 0.1 ก่อนทำการทดลอง \n",
    "\n",
    "ให้ตรวจสอบให้แน่ใจว่าเครื่องคอมพิวเตอร์ได้ติดตั้งซอฟต์แวร์ต่อไปนี้แล้ว\n",
    "\n",
    "- Visual Studio Code  \n",
    "- ติดตั้ง extension C# Dev Kit บน Visual Studio Code (ใช้สำหรับการสร้าง project) \n",
    "- .NET 8 SDK.\n",
    "\n",
    "### 0.2 ตรวจสอบ Workload ว่าได้ติดตั้งส่วนประกอบต่างๆ ครบหรือยัง\n",
    "\n",
    "- พิมพ์ `dotnet new list wasm` ใน terminal\n",
    "- ตรวจสอบว่ามี  Blazor WebAssembly App Empty หรือ Blazor WebAssembly Standalone App ติดตั้งในระบบ ถ้าไม่มี ให้ติดตั้งให้เรียบร้อย\n",
    "- ค้นหา template โดยใช้คำสั่ง `dotnet new search <ชื่อ template>`\n",
    "- ติดตั้ง template โดยใช้คำสั่ง `dotnet new install <ชื่อ template>`\n",
    "\n",
    "\n"
   ]
  },
  {
   "cell_type": "markdown",
   "metadata": {},
   "source": [
    "## 1. Introduction\n",
    "\n",
    "Blazor Web Assembly application"
   ]
  },
  {
   "cell_type": "markdown",
   "metadata": {},
   "source": [
    "## 2. Create Application\n",
    "\n",
    "1. เปิด visual studio code \n",
    "\n",
    "2. เปิด terminal โดยใช้เมนู view->terminal หรือกด Ctrl + Shift + ` \n",
    "\n",
    "   2.1 ตรวจสอบว่าเป็น folder ที่จะสร้าง project ไว้ในนั้นจริง ๆ  \n",
    "\n",
    "3. พิมพ์ `dotnet new blazorwasm -n BlazorWasm1 -o BlazorWasm1` ใน terminal\n",
    "4. พิมพ์คำสั่ง `dir` ใน terminal เพื่อดูว่ามี folder ชื่อ BlazorWasm1 ที่ถูกสร้างขึ้นใหม่อยู่แล้วหรือยัง ถ้ายังไม่มี อาจจะเกิดจากการสร้างไม่สมบูรณ์\n",
    "5. พิมพ์คำสั่ง `cd BlazorWasm1` เพื่อเปลี่ยน folder  ที่ทำงานไปอยู่ในโปรเจค BlazorWasm1\n",
    "6. พิมพ์คำสั่ง `dir` ใน terminal เพื่อดูว่ามีไฟล์อะไรบ้าง"
   ]
  },
  {
   "cell_type": "markdown",
   "metadata": {},
   "source": [
    "## 3. Build Application\n",
    "\n",
    "7. พิมพ์คำสั่ง `dotnet build`  ใน terminal เพื่อ build โปรแกรม"
   ]
  },
  {
   "cell_type": "markdown",
   "metadata": {},
   "source": [
    "## 4. Run Application\n",
    "7. พิมพ์คำสั่ง `dotnet watch` ใน terminal เพื่อรันโปรแกรม\n",
    "\n",
    "คำสั่ง dotnet watch ใช้เพื่อรันในโหมด hot reload หมายความว่า เมื่อทำการแก้ไข source code จะมีการ upload  และ refresh ให้โดยอัตโนมัติ\n",
    "\n",
    "8. สังเกตุการเปลี่ยนแปลงและบันทึกหน้าจอ\n",
    "![image.png](Picture\\18.png)"
   ]
  },
  {
   "cell_type": "markdown",
   "metadata": {},
   "source": [
    "9. ทดลองแก้ไข code โดยการเปิดไฟล์ Home.razor ซึ่งอยู่ในโฟลเดอร์ Pages ให้เป็นดังนี้\n",
    "\n",
    ">    ```r\n",
    ">    @page \"/\"\n",
    ">\n",
    ">    <PageTitle>Home</PageTitle>\n",
    ">\n",
    ">    <h1>Hello, world!</h1>\n",
    ">\n",
    ">    Welcome to your new app.\n",
    ">    <br>\n",
    ">    สวัสดี\n",
    ">    ```"
   ]
  },
  {
   "cell_type": "markdown",
   "metadata": {},
   "source": [
    "10. บันทึกไฟล์  สังเกตุการเปลี่ยนแปลงและบันทึกหน้าจอ\n",
    "![image.png](Picture\\19.png)\n",
    "11. ไปที่ terminal แล้วหยุดการทำงานของ dotnet watch โดยการกด Ctrl + C"
   ]
  },
  {
   "cell_type": "markdown",
   "metadata": {},
   "source": [
    "## 5. เพิ่ม razor page (blazor component)\n",
    "\n",
    "12. พิมพ์คำสั่ง `dotnet new list razorcomponent`  ใน terminal เพื่อตรวจสอบว่ามี template สำหรับการสร้าง razor component ติดตั้งไว้หรือยัง "
   ]
  },
  {
   "cell_type": "markdown",
   "metadata": {},
   "source": [
    "\n",
    "13. พิมพ์คำสั่ง `dotnet new razorcomponent -n Adder -o Pages` ใน terminal เพื่อสร้าง razor component โดยจะต้องสร้างไว้ในที่เดียวกับ page อื่นๆ \n",
    "14. เปิดไฟล์ Layout/NavMenu.razor เพื่อเพิ่ม link ที่หน้า navigation มายัง component ที่สร้างขึ้น\n",
    "15. คัดลอกบล็อกของ code สำหรับลิงค์ (บรรทัดที่ 22 - 26) แล้ววางลงใต้บล็อกที่ copy มา    \n",
    "16. แก้ไข href และ ข้อความ link เมื่อแก้ไขแล้วจะเป็นดังนี้ "
   ]
  },
  {
   "cell_type": "markdown",
   "metadata": {},
   "source": [
    "\n",
    ">    ```r\n",
    ">    <div class=\"top-row ps-3 navbar navbar-dark\">\n",
    ">        <div class=\"container-fluid\">\n",
    ">            <a class=\"navbar-brand\" href=\"\">BlazorServer1</a>\n",
    ">        </div>\n",
    ">    </div>\n",
    ">\n",
    ">    <input type=\"checkbox\" title=\"Navigation menu\" class=\"navbar-toggler\" />\n",
    ">\n",
    ">    <div class=\"nav-scrollable\" onclick=\"document.querySelector('.navbar-toggler').click()\">\n",
    ">        <nav class=\"flex-column\">\n",
    ">            <div class=\"nav-item px-3\">\n",
    ">                <NavLink class=\"nav-link\" href=\"\" Match=\"NavLinkMatch.All\">\n",
    ">                    <span class=\"bi bi-house-door-fill-nav-menu\" aria-hidden=\"true\"></span> Home\n",
    ">                </NavLink>\n",
    ">            </div>\n",
    ">\n",
    ">            <div class=\"nav-item px-3\">\n",
    ">                <NavLink class=\"nav-link\" href=\"counter\">\n",
    ">                    <span class=\"bi bi-plus-square-fill-nav-menu\" aria-hidden=\"true\"></span> Counter\n",
    ">                </NavLink>\n",
    ">            </div>\n",
    ">\n",
    ">            <div class=\"nav-item px-3\">\n",
    ">                <NavLink class=\"nav-link\" href=\"weather\">\n",
    ">                    <span class=\"bi bi-list-nested-nav-menu\" aria-hidden=\"true\"></span> Weather\n",
    ">                </NavLink>\n",
    ">            </div>\n",
    ">\n",
    ">            <div class=\"nav-item px-3\">\n",
    ">                <NavLink class=\"nav-link\" href=\"adder\">\n",
    ">                    <span class=\"bi bi-list-nested-nav-menu\" aria-hidden=\"true\"></span> Adder\n",
    ">                </NavLink>\n",
    ">            </div>\n",
    ">\n",
    ">        </nav>\n",
    ">    </div>\n",
    ">    ```    \n"
   ]
  },
  {
   "cell_type": "markdown",
   "metadata": {},
   "source": [
    "17. พิมพ์คำสั่ง `dotnet watch` ใน terminal เพื่อรันโปรแกรม\n",
    "18. สังเกตุหน้าเพจ ว่ามีเมนูใหม่เกิดขึ้นหรือไม่ ถ้ามี ให้ทดลองคลิกที่ลิงค์นั้น"
   ]
  },
  {
   "cell_type": "markdown",
   "metadata": {},
   "source": [
    "### 5.1 แก้ไขหน้า razor component ให้รองรับการกด link\n",
    "19. เปิดไฟล์ Components/Pages/Adder.razor\n",
    "20. เพิ่ม code สำหรับการเรียก route ไว้ในบรรทัดแรก เมื่อเพิ่มแล้วจะได้เนื้อหาในไฟล์เป็นดังนี้\n",
    ">    ```r\n",
    ">    @page \"/adder\"\n",
    ">    \n",
    ">    <h3>Adder</h3>\n",
    ">    \n",
    ">    @code {\n",
    ">    \n",
    ">    }\n",
    ">    ```\n",
    "21. ตรวจสอบใน terminal ว่า server ยังรันอยู่หรือไม่ ถ้ายังรันอยู่ ให้กด Ctrl+C เนื่องจากการเพิ่มเส้นทาง (route) ไปยัง resource ต่างๆ ต้องทำการ upload ส่วนที่เป็น core ของ server ขึ้นไปใหม่ ไม่สามารถทำเพียงแค่ hot reload ได้\n",
    "22. เมื่อ server หยุดการทำงานแล้ว ให้พิมพ์คำสั่ง `dotnet watch` ใน terminal อีกครั้งเพื่อรันโปรแกรม\n",
    "23. ทดลองคลิกที่เมนู Adder สังเกตุและบันทึกผลการทดลอง\n",
    "![image.png](Picture\\20.png)\n"
   ]
  },
  {
   "cell_type": "markdown",
   "metadata": {},
   "source": [
    "### 5.2 เพิ่ม code การบวกเลขสองจำนวนลงใน razor component\n",
    "24. เปิดไฟล์  Components/Pages/Adder.razor\n",
    "25. เปลี่ยน code ทั้งหมดในไฟล์เป็นตาม code ด้านล่างนี้\n",
    "\n",
    ">    ```r\n",
    ">   @page \"/adder\"\n",
    ">   <h3>Adder</h3>\n",
    ">   <style>\n",
    ">       .btAdd {\n",
    ">           position: relative;\n",
    ">           left: 100px;\n",
    ">           height: 40px;\n",
    ">           width: 80px;\n",
    ">       }\n",
    ">\n",
    ">       .canvas {\n",
    ">           width: 300px;\n",
    ">           height: 300px;\n",
    ">           background-color: lightcyan;\n",
    ">           float: left;\n",
    ">           position: relative;\n",
    ">       }\n",
    ">   </style>\n",
    ">\n",
    ">   <div class=\"canvas\">\n",
    ">       <p> A:<input id=\"Text1\" @bind=\"A\" type=\"text\"> </p>\n",
    ">       <p> B:<input id=\"Text2\" @bind=\"B\" type=\"text\" /> </p>\n",
    ">       <p> <button @onclick=\"AddValues\" class=\"btAdd\"> @Label </button> </p>\n",
    ">       <p> C:<input id=\"Text3\" @bind=\"C\" type=\"text\" /> </p>\n",
    ">   </div>\n",
    ">\n",
    ">   @code {\n",
    ">       string Label = \"Add\";\n",
    ">       double A, B, C;\n",
    ">       private void AddValues()\n",
    ">       {\n",
    ">           C = A + B;\n",
    ">       }\n",
    ">   }\n",
    ">   ```\n",
    "\n",
    "26. ตรวจสอบใน terminal ว่า server ยังรันอยู่หรือไม่ ถ้ายังรันอยู่ ให้กด Ctrl+C เนื่องจากการเพิ่มเส้นทาง (route) ไปยัง resource ต่างๆ ต้องทำการ upload ส่วนที่เป็น core ของ server ขึ้นไปใหม่ ไม่สามารถทำเพียงแค่ hot reload ได้\n",
    "27. เมื่อ server หยุดการทำงานแล้ว ให้พิมพ์คำสั่ง `dotnet watch` ใน terminal อีกครั้งเพื่อรันโปรแกรม\n",
    "28. ทดลองคลิกที่เมนู Adder สังเกตุและบันทึกผลการทดลอง\n",
    "![image.png](Picture\\21.png)"
   ]
  },
  {
   "cell_type": "markdown",
   "metadata": {},
   "source": [
    "### 5.3 เพิ่ม razor component การบวกเลขสองจำนวนลงในหน้า home page\n",
    "29. เปิดไฟล์  Components/Pages/Home.razor เพื่อแก้ไขหน้า Homepage\n",
    "30. แก้ไข Code ของหน้า Homepage ให้เป็นดังนี้\n",
    "\n",
    ">    ```r\n",
    ">    @page \"/\"\n",
    ">\n",
    ">    <PageTitle>Home</PageTitle>\n",
    ">\n",
    ">    <Adder> </Adder>\n",
    ">    \n",
    ">    ``` \n",
    "\n",
    "31. ตรวจสอบใน terminal ว่า server ยังรันอยู่หรือไม่ ถ้ายังรันอยู่ ให้กด Ctrl+C เนื่องจากการเพิ่มเส้นทาง (route) ไปยัง resource ต่างๆ ต้องทำการ upload ส่วนที่เป็น core ของ server ขึ้นไปใหม่ ไม่สามารถทำเพียงแค่ hot reload ได้\n",
    "32. เมื่อ server หยุดการทำงานแล้ว ให้พิมพ์คำสั่ง `dotnet watch` ใน terminal อีกครั้งเพื่อรันโปรแกรม\n",
    "33. สังเกตุและบันทึกผลการทดลอง\n",
    "34. ทดลองคลิกที่เมนู Adder สังเกตุและบันทึกผลการทดลอง\n",
    "![image.png](Picture\\22.png)"
   ]
  },
  {
   "cell_type": "markdown",
   "metadata": {},
   "source": [
    "## คำถาม\n",
    "1. ถ้าไม่ใส่ตัวเลขใดๆ เลย ทั้งช่อง A และ B แล้วกด Add จะเกิดอะไรขึ้น\n",
    "2. ถ้าไม่ตัวเลขใดเฉพาะช่อง A แต่ไม่ใส่ในช่อง B แล้วกด Add จะเกิดอะไรขึ้น\n",
    "3. ถ้าไม่ตัวเลขใดเฉพาะช่อง B แต่ไม่ใส่ในช่อง A แล้วกด Add จะเกิดอะไรขึ้น\n",
    "4. ถ้าใส่อักษรที่ไม่ใช่ตัวเลขลงในช่อง A หรือ B แล้วกด Add จะเกิดอะไรขึ้น\n",
    "5. ถ้าใส่เลขทศนิยมลงในช่อง A หรือ B แล้วกด Add จะเกิดอะไรขึ้น\n",
    "6. Code ของโปรแกรมในใบงานนี้กับใบงานก่อนหน้า (Blazor server) เฉพาะส่วนของ Homepage และ Adder page มีส่วนที่แตกต่างกันตรงไหนบ้าง\n",
    "## ตอบคำถาม\n",
    "1. ขึ้นตัวเลข 0 ที่ช่อง C\n",
    "2. ขึ้นตัวเลขที่ป้อนเข้าไปในช่อง A แสดงผลที่ช่อง C\n",
    "3. ขึ้นตัวเลขที่ป้อนเข้าไปในช่อง B แสดงผลที่ช่อง C\n",
    "4. หากไม่ใส่ตัวเลขที่ช่องAหรือBแล้วใส่ตัวอักษรไป จะขึ้นตัวเลข 0 ที่ช่อง C แต่ถ้าหากใส่ตัวอักษรไปที่ช่องใดช่องหนึ่งแล้วอีกช่องใส่ตัวเลข ช่อง C จะแสดงผลลัพธ์เป็นตัวเลขที่พิมพ์ในช่อง A หรือ B\n",
    "5. ขึ้นผลลัพธ์การบวกที่ช่อง C เป็นทศนิยม และคำตอบถูกต้อง\n",
    "6. ในส่วนขของโค้ดทั้งสองโปรแกรมใช้คำสั่งเฟมือนกันต่างกันที่ชื่อแค่นั้น ในใบงานนี้ BlazorWasm เรียกใช้ฟังก์ชันได้โดยตรงในโค้ดของส่วนประกอบ (component) แต่ในใบงานก่อนหน้า BlazorServer ต้องใช้คำสั่งเพื่อส่งคำสั่งไปยังเซิร์ฟเวอร์ BlazorWasm จะมีไฟล์ .razor เพิ่มเติมที่เกี่ยวข้องกับ WebAssembly ส่วนในBlazor Server โครงสร้างไฟล์จะคล้ายกับแอป ASP.NET Core ทั่วไป"
   ]
  }
 ],
 "metadata": {
  "kernelspec": {
   "display_name": ".NET (C#)",
   "language": "C#",
   "name": ".net-csharp"
  },
  "polyglot_notebook": {
   "kernelInfo": {
    "defaultKernelName": "csharp",
    "items": [
     {
      "aliases": [],
      "languageName": "csharp",
      "name": "csharp"
     }
    ]
   }
  }
 },
 "nbformat": 4,
 "nbformat_minor": 2
}
